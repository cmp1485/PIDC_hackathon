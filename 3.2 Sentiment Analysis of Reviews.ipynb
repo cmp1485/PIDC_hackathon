{
 "cells": [
  {
   "cell_type": "markdown",
   "id": "6c9a0df9",
   "metadata": {},
   "source": [
    "## Importing necessary libraries"
   ]
  },
  {
   "cell_type": "code",
   "execution_count": 1,
   "id": "dcfea6f6",
   "metadata": {},
   "outputs": [],
   "source": [
    "import pandas as pd\n",
    "from nltk.corpus import stopwords\n",
    "from nltk.stem.porter import PorterStemmer\n",
    "from nltk.tokenize import word_tokenize\n",
    "from sklearn.model_selection import train_test_split\n",
    "import re\n",
    "from sklearn.feature_extraction.text import CountVectorizer, TfidfVectorizer\n",
    "from sklearn.impute import SimpleImputer\n",
    "from sklearn.naive_bayes import MultinomialNB\n",
    "from sklearn.tree import DecisionTreeClassifier\n",
    "from sklearn.linear_model import LogisticRegression\n",
    "from sklearn.ensemble import RandomForestClassifier\n",
    "from sklearn.metrics import accuracy_score, f1_score#, classification_report\n",
    "from sklearn.pipeline import Pipeline\n",
    "import pickle"
   ]
  },
  {
   "cell_type": "markdown",
   "id": "2e39b29e",
   "metadata": {},
   "source": [
    "## Loading the dataset"
   ]
  },
  {
   "cell_type": "code",
   "execution_count": 2,
   "id": "b7dc2f71",
   "metadata": {},
   "outputs": [],
   "source": [
    "data = pd.read_csv(r\"C:\\Users\\91852\\Downloads\\tripadvisor_hotel_reviews.csv\\tripadvisor_hotel_reviews.csv\")"
   ]
  },
  {
   "cell_type": "code",
   "execution_count": 3,
   "id": "f3edd795",
   "metadata": {},
   "outputs": [
    {
     "data": {
      "text/html": [
       "<div>\n",
       "<style scoped>\n",
       "    .dataframe tbody tr th:only-of-type {\n",
       "        vertical-align: middle;\n",
       "    }\n",
       "\n",
       "    .dataframe tbody tr th {\n",
       "        vertical-align: top;\n",
       "    }\n",
       "\n",
       "    .dataframe thead th {\n",
       "        text-align: right;\n",
       "    }\n",
       "</style>\n",
       "<table border=\"1\" class=\"dataframe\">\n",
       "  <thead>\n",
       "    <tr style=\"text-align: right;\">\n",
       "      <th></th>\n",
       "      <th>Review</th>\n",
       "      <th>Rating</th>\n",
       "    </tr>\n",
       "  </thead>\n",
       "  <tbody>\n",
       "    <tr>\n",
       "      <th>0</th>\n",
       "      <td>nice hotel expensive parking got good deal sta...</td>\n",
       "      <td>4</td>\n",
       "    </tr>\n",
       "    <tr>\n",
       "      <th>1</th>\n",
       "      <td>ok nothing special charge diamond member hilto...</td>\n",
       "      <td>2</td>\n",
       "    </tr>\n",
       "    <tr>\n",
       "      <th>2</th>\n",
       "      <td>nice rooms not 4* experience hotel monaco seat...</td>\n",
       "      <td>3</td>\n",
       "    </tr>\n",
       "    <tr>\n",
       "      <th>3</th>\n",
       "      <td>unique, great stay, wonderful time hotel monac...</td>\n",
       "      <td>5</td>\n",
       "    </tr>\n",
       "    <tr>\n",
       "      <th>4</th>\n",
       "      <td>great stay great stay, went seahawk game aweso...</td>\n",
       "      <td>5</td>\n",
       "    </tr>\n",
       "  </tbody>\n",
       "</table>\n",
       "</div>"
      ],
      "text/plain": [
       "                                              Review  Rating\n",
       "0  nice hotel expensive parking got good deal sta...       4\n",
       "1  ok nothing special charge diamond member hilto...       2\n",
       "2  nice rooms not 4* experience hotel monaco seat...       3\n",
       "3  unique, great stay, wonderful time hotel monac...       5\n",
       "4  great stay great stay, went seahawk game aweso...       5"
      ]
     },
     "execution_count": 3,
     "metadata": {},
     "output_type": "execute_result"
    }
   ],
   "source": [
    "data.head()"
   ]
  },
  {
   "cell_type": "code",
   "execution_count": 4,
   "id": "37698697",
   "metadata": {},
   "outputs": [
    {
     "data": {
      "text/plain": [
       "(20491, 2)"
      ]
     },
     "execution_count": 4,
     "metadata": {},
     "output_type": "execute_result"
    }
   ],
   "source": [
    "data.shape"
   ]
  },
  {
   "cell_type": "code",
   "execution_count": 5,
   "id": "1711f797",
   "metadata": {},
   "outputs": [
    {
     "data": {
      "text/plain": [
       "Index(['Review', 'Rating'], dtype='object')"
      ]
     },
     "execution_count": 5,
     "metadata": {},
     "output_type": "execute_result"
    }
   ],
   "source": [
    "data.columns"
   ]
  },
  {
   "cell_type": "markdown",
   "id": "87bd7580",
   "metadata": {},
   "source": [
    "## Data Cleaning"
   ]
  },
  {
   "cell_type": "code",
   "execution_count": 6,
   "id": "e0d787d0",
   "metadata": {},
   "outputs": [
    {
     "data": {
      "text/plain": [
       "Review    0\n",
       "Rating    0\n",
       "dtype: int64"
      ]
     },
     "execution_count": 6,
     "metadata": {},
     "output_type": "execute_result"
    }
   ],
   "source": [
    "data.isna().sum() #Check if there are any missing values in any of the columns"
   ]
  },
  {
   "cell_type": "markdown",
   "id": "2189d5ca",
   "metadata": {},
   "source": [
    "## Data Visualization"
   ]
  },
  {
   "cell_type": "code",
   "execution_count": 7,
   "id": "9d004e0d",
   "metadata": {},
   "outputs": [
    {
     "data": {
      "text/plain": [
       "<Axes: title={'center': 'Box Plot for Ratings'}>"
      ]
     },
     "execution_count": 7,
     "metadata": {},
     "output_type": "execute_result"
    },
    {
     "data": {
      "image/png": "[encoded data removed]",
      "text/plain": [
       "<Figure size 640x480 with 1 Axes>"
      ]
     },
     "metadata": {},
     "output_type": "display_data"
    }
   ],
   "source": [
    "data['Rating'].value_counts().plot(kind='box', title = 'Box Plot for Ratings') #to check how the data is skewed"
   ]
  },
  {
   "cell_type": "code",
   "execution_count": 8,
   "id": "d28bd2ab",
   "metadata": {},
   "outputs": [
    {
     "data": {
      "text/plain": [
       "<Axes: title={'center': 'Bar plot for Ratings'}, xlabel='Rating'>"
      ]
     },
     "execution_count": 8,
     "metadata": {},
     "output_type": "execute_result"
    },
    {
     "data": {
      "image/png": "[encoded data removed]",
      "text/plain": [
       "<Figure size 640x480 with 1 Axes>"
      ]
     },
     "metadata": {},
     "output_type": "display_data"
    }
   ],
   "source": [
    "data['Rating'].value_counts().plot(kind='bar', title='Bar plot for Ratings')"
   ]
  },
  {
   "cell_type": "markdown",
   "id": "1ad5fcd7",
   "metadata": {},
   "source": [
    "## Feature Engineering"
   ]
  },
  {
   "cell_type": "code",
   "execution_count": 9,
   "id": "03a23a29",
   "metadata": {},
   "outputs": [],
   "source": [
    "#Creating a new column that classifies the reviews based on the rating."
   ]
  },
  {
   "cell_type": "markdown",
   "id": "ea16eee1",
   "metadata": {},
   "source": [
    "### The reviews are classifed into three categories:\n",
    "*Positive (4 or 5 rating)\n",
    "*Negative(1 or 2 star rating)\n",
    "*Neutral (3 star rating)"
   ]
  },
  {
   "cell_type": "code",
   "execution_count": 10,
   "id": "37f1ec48",
   "metadata": {},
   "outputs": [],
   "source": [
    "def emotion_classification(rating):\n",
    "    if rating>=4:\n",
    "        return \"Positive\"\n",
    "    elif rating<=2:\n",
    "        return \"Negative\"\n",
    "    else:\n",
    "        return \"Neutral\""
   ]
  },
  {
   "cell_type": "code",
   "execution_count": 11,
   "id": "67cfdd2b",
   "metadata": {},
   "outputs": [],
   "source": [
    "data['Rating_emotion'] = data['Rating'].apply(emotion_classification)"
   ]
  },
  {
   "cell_type": "code",
   "execution_count": 12,
   "id": "cd4dadd7",
   "metadata": {},
   "outputs": [
    {
     "data": {
      "text/html": [
       "<div>\n",
       "<style scoped>\n",
       "    .dataframe tbody tr th:only-of-type {\n",
       "        vertical-align: middle;\n",
       "    }\n",
       "\n",
       "    .dataframe tbody tr th {\n",
       "        vertical-align: top;\n",
       "    }\n",
       "\n",
       "    .dataframe thead th {\n",
       "        text-align: right;\n",
       "    }\n",
       "</style>\n",
       "<table border=\"1\" class=\"dataframe\">\n",
       "  <thead>\n",
       "    <tr style=\"text-align: right;\">\n",
       "      <th></th>\n",
       "      <th>Review</th>\n",
       "      <th>Rating</th>\n",
       "      <th>Rating_emotion</th>\n",
       "    </tr>\n",
       "  </thead>\n",
       "  <tbody>\n",
       "    <tr>\n",
       "      <th>1</th>\n",
       "      <td>ok nothing special charge diamond member hilto...</td>\n",
       "      <td>2</td>\n",
       "      <td>Negative</td>\n",
       "    </tr>\n",
       "    <tr>\n",
       "      <th>10</th>\n",
       "      <td>poor value stayed monaco seattle july, nice ho...</td>\n",
       "      <td>2</td>\n",
       "      <td>Negative</td>\n",
       "    </tr>\n",
       "    <tr>\n",
       "      <th>15</th>\n",
       "      <td>horrible customer service hotel stay february ...</td>\n",
       "      <td>1</td>\n",
       "      <td>Negative</td>\n",
       "    </tr>\n",
       "    <tr>\n",
       "      <th>16</th>\n",
       "      <td>disappointed say anticipating stay hotel monac...</td>\n",
       "      <td>2</td>\n",
       "      <td>Negative</td>\n",
       "    </tr>\n",
       "    <tr>\n",
       "      <th>24</th>\n",
       "      <td>great location need internally upgrade advanta...</td>\n",
       "      <td>2</td>\n",
       "      <td>Negative</td>\n",
       "    </tr>\n",
       "    <tr>\n",
       "      <th>...</th>\n",
       "      <td>...</td>\n",
       "      <td>...</td>\n",
       "      <td>...</td>\n",
       "    </tr>\n",
       "    <tr>\n",
       "      <th>20484</th>\n",
       "      <td>deceptive staff deceptive desk staff claiming ...</td>\n",
       "      <td>2</td>\n",
       "      <td>Negative</td>\n",
       "    </tr>\n",
       "    <tr>\n",
       "      <th>20485</th>\n",
       "      <td>not impressed unfriendly staff checked asked h...</td>\n",
       "      <td>2</td>\n",
       "      <td>Negative</td>\n",
       "    </tr>\n",
       "    <tr>\n",
       "      <th>20488</th>\n",
       "      <td>ok just looks nice modern outside, desk staff ...</td>\n",
       "      <td>2</td>\n",
       "      <td>Negative</td>\n",
       "    </tr>\n",
       "    <tr>\n",
       "      <th>20489</th>\n",
       "      <td>hotel theft ruined vacation hotel opened sept ...</td>\n",
       "      <td>1</td>\n",
       "      <td>Negative</td>\n",
       "    </tr>\n",
       "    <tr>\n",
       "      <th>20490</th>\n",
       "      <td>people talking, ca n't believe excellent ratin...</td>\n",
       "      <td>2</td>\n",
       "      <td>Negative</td>\n",
       "    </tr>\n",
       "  </tbody>\n",
       "</table>\n",
       "<p>3214 rows × 3 columns</p>\n",
       "</div>"
      ],
      "text/plain": [
       "                                                  Review  Rating  \\\n",
       "1      ok nothing special charge diamond member hilto...       2   \n",
       "10     poor value stayed monaco seattle july, nice ho...       2   \n",
       "15     horrible customer service hotel stay february ...       1   \n",
       "16     disappointed say anticipating stay hotel monac...       2   \n",
       "24     great location need internally upgrade advanta...       2   \n",
       "...                                                  ...     ...   \n",
       "20484  deceptive staff deceptive desk staff claiming ...       2   \n",
       "20485  not impressed unfriendly staff checked asked h...       2   \n",
       "20488  ok just looks nice modern outside, desk staff ...       2   \n",
       "20489  hotel theft ruined vacation hotel opened sept ...       1   \n",
       "20490  people talking, ca n't believe excellent ratin...       2   \n",
       "\n",
       "      Rating_emotion  \n",
       "1           Negative  \n",
       "10          Negative  \n",
       "15          Negative  \n",
       "16          Negative  \n",
       "24          Negative  \n",
       "...              ...  \n",
       "20484       Negative  \n",
       "20485       Negative  \n",
       "20488       Negative  \n",
       "20489       Negative  \n",
       "20490       Negative  \n",
       "\n",
       "[3214 rows x 3 columns]"
      ]
     },
     "execution_count": 12,
     "metadata": {},
     "output_type": "execute_result"
    }
   ],
   "source": [
    "data[data['Rating_emotion']==\"Negative\"]"
   ]
  },
  {
   "cell_type": "code",
   "execution_count": 13,
   "id": "3ca32866",
   "metadata": {},
   "outputs": [
    {
     "data": {
      "text/plain": [
       "0.7365672734371187"
      ]
     },
     "execution_count": 13,
     "metadata": {},
     "output_type": "execute_result"
    }
   ],
   "source": [
    "data[data['Rating_emotion']==\"Positive\"].shape[0]/data.shape[0]"
   ]
  },
  {
   "cell_type": "code",
   "execution_count": 14,
   "id": "237bf88a",
   "metadata": {},
   "outputs": [
    {
     "data": {
      "text/plain": [
       "0.15684934849446097"
      ]
     },
     "execution_count": 14,
     "metadata": {},
     "output_type": "execute_result"
    }
   ],
   "source": [
    "data[data['Rating_emotion']==\"Negative\"].shape[0]/data.shape[0]"
   ]
  },
  {
   "cell_type": "code",
   "execution_count": 15,
   "id": "28276398",
   "metadata": {},
   "outputs": [
    {
     "data": {
      "text/plain": [
       "0.10658337806842028"
      ]
     },
     "execution_count": 15,
     "metadata": {},
     "output_type": "execute_result"
    }
   ],
   "source": [
    "data[data['Rating_emotion']==\"Neutral\"].shape[0]/data.shape[0]"
   ]
  },
  {
   "cell_type": "markdown",
   "id": "22e7280e",
   "metadata": {},
   "source": [
    "###### The data is imbalanced and to account for it, we need to make sure that this ratio remains the same after splitting the data into train and test datasets."
   ]
  },
  {
   "cell_type": "markdown",
   "id": "d27ef5fc",
   "metadata": {},
   "source": [
    "## Defining the independent and dependent variables"
   ]
  },
  {
   "cell_type": "code",
   "execution_count": 16,
   "id": "a559a624",
   "metadata": {},
   "outputs": [],
   "source": [
    "X = data['Review']\n",
    "y = data['Rating_emotion']"
   ]
  },
  {
   "cell_type": "markdown",
   "id": "f253e72a",
   "metadata": {},
   "source": [
    "## Splitting the dataset into training and test data"
   ]
  },
  {
   "cell_type": "code",
   "execution_count": 17,
   "id": "c4d47487",
   "metadata": {},
   "outputs": [],
   "source": [
    "X_train, X_test, y_train, y_test = train_test_split(X, y, test_size=0.2, random_state=42)"
   ]
  },
  {
   "cell_type": "code",
   "execution_count": 18,
   "id": "8289f12c",
   "metadata": {},
   "outputs": [
    {
     "data": {
      "text/plain": [
       "11710    outstanding cleanliness value location wanted ...\n",
       "10444    cheap cheerful hey not sure fuss picked hotel ...\n",
       "19183    sensational hotel stayed hotel renew 2-10 nove...\n",
       "14261    nice spent 3 nights easter nice little hotel f...\n",
       "1989     overall good experience enjoyed staying hotel ...\n",
       "                               ...                        \n",
       "11284    worth money no complaints place beautiful, sta...\n",
       "11964    stellar experience stayed night pleasantly sur...\n",
       "5390     best location town aquarium, soon enter hotel ...\n",
       "860      amazing place amazing location amazing food, p...\n",
       "15795    loved want, hotel fantastic, stayed season hot...\n",
       "Name: Review, Length: 16392, dtype: object"
      ]
     },
     "execution_count": 18,
     "metadata": {},
     "output_type": "execute_result"
    }
   ],
   "source": [
    "X_train"
   ]
  },
  {
   "cell_type": "code",
   "execution_count": 19,
   "id": "52e9f6f2",
   "metadata": {},
   "outputs": [
    {
     "data": {
      "text/plain": [
       "10726    not recommend hotel did reviewers actually sta...\n",
       "14919    barcelona rocks, stayed hotel jazz girlfriend ...\n",
       "19098    ok hotel good location stayed night way beijin...\n",
       "2450     great service nice pool ok beach lovely ground...\n",
       "960      surprising treat spent weekend july 15/16 2006...\n",
       "                               ...                        \n",
       "1576     staff friendly hotel rooms bit tatty recently ...\n",
       "18714    magnificent date august 5 2008reviewer trip ad...\n",
       "12690    not bad business trip food, hotel n't bad did ...\n",
       "18095    great choice travelling car got great rate loo...\n",
       "11836    fantastic stay, rated best mexico trip husband...\n",
       "Name: Review, Length: 4099, dtype: object"
      ]
     },
     "execution_count": 19,
     "metadata": {},
     "output_type": "execute_result"
    }
   ],
   "source": [
    "X_test"
   ]
  },
  {
   "cell_type": "code",
   "execution_count": 20,
   "id": "2b433c46",
   "metadata": {},
   "outputs": [],
   "source": [
    "prob_positive_data = data[data['Rating_emotion']==\"Positive\"].shape[0]/data.shape[0] #probability of finding a positive review in the full dataset"
   ]
  },
  {
   "cell_type": "code",
   "execution_count": 21,
   "id": "1053078d",
   "metadata": {},
   "outputs": [],
   "source": [
    "prob_positive_train_data = sum(y_train=='Positive')/y_train.shape[0]  #probability of finding a positive review in the training data"
   ]
  },
  {
   "cell_type": "code",
   "execution_count": 22,
   "id": "24f28ce2",
   "metadata": {},
   "outputs": [],
   "source": [
    "prob_positive_test_data = sum(y_test=='Positive')/y_test.shape[0] #probability of finding a positive review in the test data"
   ]
  },
  {
   "cell_type": "code",
   "execution_count": 23,
   "id": "589d254e",
   "metadata": {},
   "outputs": [
    {
     "data": {
      "text/plain": [
       "(0.7365672734371187, 0.7351756954612005, 0.7421322273725299)"
      ]
     },
     "execution_count": 23,
     "metadata": {},
     "output_type": "execute_result"
    }
   ],
   "source": [
    "prob_positive_data, prob_positive_train_data, prob_positive_test_data"
   ]
  },
  {
   "cell_type": "markdown",
   "id": "872c7de8",
   "metadata": {},
   "source": [
    "###### The probability of finding a positive review in the training and test data remains the same as the full dataset"
   ]
  },
  {
   "cell_type": "code",
   "execution_count": 24,
   "id": "767c9de9",
   "metadata": {},
   "outputs": [],
   "source": [
    "prob_negative_data = sum(y_train=='Negative')/y_train.shape[0] #probability of finding a negative review in the full dataset"
   ]
  },
  {
   "cell_type": "code",
   "execution_count": 25,
   "id": "f92ad2e0",
   "metadata": {},
   "outputs": [],
   "source": [
    "prob_negative_train_data = sum(y_train=='Negative')/y_train.shape[0] #probability of finding a negative review in the training data"
   ]
  },
  {
   "cell_type": "code",
   "execution_count": 26,
   "id": "233f1ce5",
   "metadata": {},
   "outputs": [],
   "source": [
    "prob_negative_test_data = sum(y_test=='Negative')/y_test.shape[0] #probability of finding a negative review in the test data"
   ]
  },
  {
   "cell_type": "code",
   "execution_count": 27,
   "id": "1f7fcc6c",
   "metadata": {},
   "outputs": [
    {
     "data": {
      "text/plain": [
       "(0.1579428989751098, 0.1579428989751098, 0.15247621371066114)"
      ]
     },
     "execution_count": 27,
     "metadata": {},
     "output_type": "execute_result"
    }
   ],
   "source": [
    "prob_negative_data, prob_negative_train_data, prob_negative_test_data"
   ]
  },
  {
   "cell_type": "markdown",
   "id": "1af39a74",
   "metadata": {},
   "source": [
    "##### The probability of finding a negative review in the training and test data remains the same as the full dataset"
   ]
  },
  {
   "cell_type": "code",
   "execution_count": 28,
   "id": "2ba01a90",
   "metadata": {},
   "outputs": [],
   "source": [
    "prob_neutral_data = sum(y_train=='Neutral')/y_train.shape[0] #probability of finding a neutral review in the full dataset"
   ]
  },
  {
   "cell_type": "code",
   "execution_count": 29,
   "id": "ac826dd3",
   "metadata": {},
   "outputs": [],
   "source": [
    "prob_neutral_train_data = sum(y_train=='Neutral')/y_train.shape[0] #probability of finding a neutral review in the training data"
   ]
  },
  {
   "cell_type": "code",
   "execution_count": 30,
   "id": "a063a3d0",
   "metadata": {},
   "outputs": [],
   "source": [
    "prob_neutral_test_data = sum(y_test=='Neutral')/y_test.shape[0] #probability of finding a neutral review in the test data"
   ]
  },
  {
   "cell_type": "code",
   "execution_count": 31,
   "id": "ae7f07a6",
   "metadata": {},
   "outputs": [
    {
     "data": {
      "text/plain": [
       "(0.10688140556368961, 0.10688140556368961, 0.10539155891680897)"
      ]
     },
     "execution_count": 31,
     "metadata": {},
     "output_type": "execute_result"
    }
   ],
   "source": [
    "prob_neutral_data, prob_neutral_train_data, prob_neutral_test_data"
   ]
  },
  {
   "cell_type": "markdown",
   "id": "59b2cc7c",
   "metadata": {},
   "source": [
    "###### The probability of finding a neutral review in the training and test data remains the same as the full dataset"
   ]
  },
  {
   "cell_type": "markdown",
   "id": "22a09a64",
   "metadata": {},
   "source": [
    "## Data Preprocessing of Training Data"
   ]
  },
  {
   "cell_type": "code",
   "execution_count": 32,
   "id": "a294b1c1",
   "metadata": {},
   "outputs": [],
   "source": [
    "stop_words = set(stopwords.words('english'))"
   ]
  },
  {
   "cell_type": "code",
   "execution_count": 33,
   "id": "299b80f8",
   "metadata": {},
   "outputs": [
    {
     "data": {
      "text/plain": [
       "{'a',\n",
       " 'about',\n",
       " 'above',\n",
       " 'after',\n",
       " 'again',\n",
       " 'against',\n",
       " 'ain',\n",
       " 'all',\n",
       " 'am',\n",
       " 'an',\n",
       " 'and',\n",
       " 'any',\n",
       " 'are',\n",
       " 'aren',\n",
       " \"aren't\",\n",
       " 'as',\n",
       " 'at',\n",
       " 'be',\n",
       " 'because',\n",
       " 'been',\n",
       " 'before',\n",
       " 'being',\n",
       " 'below',\n",
       " 'between',\n",
       " 'both',\n",
       " 'but',\n",
       " 'by',\n",
       " 'can',\n",
       " 'couldn',\n",
       " \"couldn't\",\n",
       " 'd',\n",
       " 'did',\n",
       " 'didn',\n",
       " \"didn't\",\n",
       " 'do',\n",
       " 'does',\n",
       " 'doesn',\n",
       " \"doesn't\",\n",
       " 'doing',\n",
       " 'don',\n",
       " \"don't\",\n",
       " 'down',\n",
       " 'during',\n",
       " 'each',\n",
       " 'few',\n",
       " 'for',\n",
       " 'from',\n",
       " 'further',\n",
       " 'had',\n",
       " 'hadn',\n",
       " \"hadn't\",\n",
       " 'has',\n",
       " 'hasn',\n",
       " \"hasn't\",\n",
       " 'have',\n",
       " 'haven',\n",
       " \"haven't\",\n",
       " 'having',\n",
       " 'he',\n",
       " 'her',\n",
       " 'here',\n",
       " 'hers',\n",
       " 'herself',\n",
       " 'him',\n",
       " 'himself',\n",
       " 'his',\n",
       " 'how',\n",
       " 'i',\n",
       " 'if',\n",
       " 'in',\n",
       " 'into',\n",
       " 'is',\n",
       " 'isn',\n",
       " \"isn't\",\n",
       " 'it',\n",
       " \"it's\",\n",
       " 'its',\n",
       " 'itself',\n",
       " 'just',\n",
       " 'll',\n",
       " 'm',\n",
       " 'ma',\n",
       " 'me',\n",
       " 'mightn',\n",
       " \"mightn't\",\n",
       " 'more',\n",
       " 'most',\n",
       " 'mustn',\n",
       " \"mustn't\",\n",
       " 'my',\n",
       " 'myself',\n",
       " 'needn',\n",
       " \"needn't\",\n",
       " 'no',\n",
       " 'nor',\n",
       " 'not',\n",
       " 'now',\n",
       " 'o',\n",
       " 'of',\n",
       " 'off',\n",
       " 'on',\n",
       " 'once',\n",
       " 'only',\n",
       " 'or',\n",
       " 'other',\n",
       " 'our',\n",
       " 'ours',\n",
       " 'ourselves',\n",
       " 'out',\n",
       " 'over',\n",
       " 'own',\n",
       " 're',\n",
       " 's',\n",
       " 'same',\n",
       " 'shan',\n",
       " \"shan't\",\n",
       " 'she',\n",
       " \"she's\",\n",
       " 'should',\n",
       " \"should've\",\n",
       " 'shouldn',\n",
       " \"shouldn't\",\n",
       " 'so',\n",
       " 'some',\n",
       " 'such',\n",
       " 't',\n",
       " 'than',\n",
       " 'that',\n",
       " \"that'll\",\n",
       " 'the',\n",
       " 'their',\n",
       " 'theirs',\n",
       " 'them',\n",
       " 'themselves',\n",
       " 'then',\n",
       " 'there',\n",
       " 'these',\n",
       " 'they',\n",
       " 'this',\n",
       " 'those',\n",
       " 'through',\n",
       " 'to',\n",
       " 'too',\n",
       " 'under',\n",
       " 'until',\n",
       " 'up',\n",
       " 've',\n",
       " 'very',\n",
       " 'was',\n",
       " 'wasn',\n",
       " \"wasn't\",\n",
       " 'we',\n",
       " 'were',\n",
       " 'weren',\n",
       " \"weren't\",\n",
       " 'what',\n",
       " 'when',\n",
       " 'where',\n",
       " 'which',\n",
       " 'while',\n",
       " 'who',\n",
       " 'whom',\n",
       " 'why',\n",
       " 'will',\n",
       " 'with',\n",
       " 'won',\n",
       " \"won't\",\n",
       " 'wouldn',\n",
       " \"wouldn't\",\n",
       " 'y',\n",
       " 'you',\n",
       " \"you'd\",\n",
       " \"you'll\",\n",
       " \"you're\",\n",
       " \"you've\",\n",
       " 'your',\n",
       " 'yours',\n",
       " 'yourself',\n",
       " 'yourselves'}"
      ]
     },
     "execution_count": 33,
     "metadata": {},
     "output_type": "execute_result"
    }
   ],
   "source": [
    "stop_words"
   ]
  },
  {
   "cell_type": "code",
   "execution_count": 34,
   "id": "0b35b7cb",
   "metadata": {},
   "outputs": [],
   "source": [
    "stemmer = PorterStemmer()"
   ]
  },
  {
   "cell_type": "code",
   "execution_count": 35,
   "id": "2b77b5b5",
   "metadata": {},
   "outputs": [],
   "source": [
    "def text_preprocess(text):\n",
    "    \n",
    "    text = text.lower() #convert all the characters to lower-case\n",
    "    \n",
    "    pattern = \"[^a-zA-Z]\" \n",
    "    text = re.sub(pattern, \" \", text) #exclude every character that is not an alphabet (,.-0-9)\n",
    "\n",
    "   \n",
    "    tokenized_words = word_tokenize(text) #split the sentences into words using word_tokenize\n",
    "    \n",
    "    stem_words = []\n",
    "    for word in tokenized_words:\n",
    "        if word not in stop_words: #stopword removal\n",
    "            preprocessed_words = stemmer.stem(word) #using stemmer, get only the core of each word\n",
    "            stem_words.append(preprocessed_words)\n",
    "\n",
    "    words = \" \".join(stem_words) #joining the items of the list to form a string\n",
    "            \n",
    "    return words"
   ]
  },
  {
   "cell_type": "code",
   "execution_count": 36,
   "id": "1f7b4668",
   "metadata": {
    "scrolled": true
   },
   "outputs": [],
   "source": [
    "X_train_preprocessed = X_train.apply(text_preprocess)"
   ]
  },
  {
   "cell_type": "code",
   "execution_count": 37,
   "id": "b89e7135",
   "metadata": {},
   "outputs": [
    {
     "data": {
      "text/plain": [
       "'cheap cheerful hey not sure fuss picked hotel price got paid for.dont wrong not palace clean tidy warm honest expecting grander check little paid think again.the rooms basic livable.the location not bad free public ferry leaves central station leaves 150 metres botel cant crying, lazy arses thinks.the use mini bus collection returning home little worse wear early hours evening hassle free.there nice restaurant bar situated end quay botel docked, dont think anybody mentioned,  '"
      ]
     },
     "execution_count": 37,
     "metadata": {},
     "output_type": "execute_result"
    }
   ],
   "source": [
    "X_train.iloc[1]"
   ]
  },
  {
   "cell_type": "code",
   "execution_count": 38,
   "id": "7a4f1c83",
   "metadata": {
    "scrolled": true
   },
   "outputs": [
    {
     "data": {
      "text/plain": [
       "'cheap cheer hey sure fuss pick hotel price got paid dont wrong palac clean tidi warm honest expect grander check littl paid think room basic livabl locat bad free public ferri leav central station leav metr botel cant cri lazi ars think use mini bu collect return home littl wors wear earli hour even hassl free nice restaur bar situat end quay botel dock dont think anybodi mention'"
      ]
     },
     "execution_count": 38,
     "metadata": {},
     "output_type": "execute_result"
    }
   ],
   "source": [
    "X_train_preprocessed.iloc[1]"
   ]
  },
  {
   "cell_type": "code",
   "execution_count": 39,
   "id": "626f1016",
   "metadata": {},
   "outputs": [],
   "source": [
    "#After preprocessing, the text only contains core parts of important words that add significant value to the rating given"
   ]
  },
  {
   "cell_type": "code",
   "execution_count": 40,
   "id": "52cceabd",
   "metadata": {},
   "outputs": [
    {
     "data": {
      "text/plain": [
       "11710    outstand cleanli valu locat want stay central ...\n",
       "10444    cheap cheer hey sure fuss pick hotel price got...\n",
       "19183    sensat hotel stay hotel renew novemb felt comp...\n",
       "14261    nice spent night easter nice littl hotel frien...\n",
       "1989     overal good experi enjoy stay hotel locat view...\n",
       "                               ...                        \n",
       "11284    worth money complaint place beauti staff help ...\n",
       "11964    stellar experi stay night pleasantli surpris a...\n",
       "5390     best locat town aquarium soon enter hotel spec...\n",
       "860      amaz place amaz locat amaz food place great su...\n",
       "15795    love want hotel fantast stay season hotel wasr...\n",
       "Name: Review, Length: 16392, dtype: object"
      ]
     },
     "execution_count": 40,
     "metadata": {},
     "output_type": "execute_result"
    }
   ],
   "source": [
    "X_train_preprocessed"
   ]
  },
  {
   "cell_type": "markdown",
   "id": "1effec8d",
   "metadata": {},
   "source": [
    "### Vectorize the preprocessed text"
   ]
  },
  {
   "cell_type": "code",
   "execution_count": 41,
   "id": "d15e7133",
   "metadata": {},
   "outputs": [],
   "source": [
    "vectorizer = TfidfVectorizer()"
   ]
  },
  {
   "cell_type": "code",
   "execution_count": 42,
   "id": "b046f0d8",
   "metadata": {},
   "outputs": [],
   "source": [
    "X_train_numerical = vectorizer.fit_transform(X_train_preprocessed)"
   ]
  },
  {
   "cell_type": "code",
   "execution_count": 43,
   "id": "88882e94",
   "metadata": {},
   "outputs": [
    {
     "data": {
      "text/plain": [
       "<16392x31843 sparse matrix of type '<class 'numpy.float64'>'\n",
       "\twith 1231802 stored elements in Compressed Sparse Row format>"
      ]
     },
     "execution_count": 43,
     "metadata": {},
     "output_type": "execute_result"
    }
   ],
   "source": [
    "X_train_numerical"
   ]
  },
  {
   "cell_type": "markdown",
   "id": "17eae4a6",
   "metadata": {},
   "source": [
    "## Data Preprocessing of Test data"
   ]
  },
  {
   "cell_type": "code",
   "execution_count": 44,
   "id": "3e8a2217",
   "metadata": {},
   "outputs": [],
   "source": [
    "X_test_preprocessed = X_test.apply(text_preprocess)"
   ]
  },
  {
   "cell_type": "code",
   "execution_count": 45,
   "id": "c032f5df",
   "metadata": {},
   "outputs": [],
   "source": [
    "X_test_num = vectorizer.transform(X_test_preprocessed)"
   ]
  },
  {
   "cell_type": "code",
   "execution_count": 46,
   "id": "e3ad5aa3",
   "metadata": {},
   "outputs": [
    {
     "data": {
      "text/plain": [
       "<4099x31843 sparse matrix of type '<class 'numpy.float64'>'\n",
       "\twith 304117 stored elements in Compressed Sparse Row format>"
      ]
     },
     "execution_count": 46,
     "metadata": {},
     "output_type": "execute_result"
    }
   ],
   "source": [
    "X_test_num"
   ]
  },
  {
   "cell_type": "markdown",
   "id": "ebcdc1e7",
   "metadata": {},
   "source": [
    "## Building and Evaluating Models using few classification algorithms"
   ]
  },
  {
   "cell_type": "code",
   "execution_count": 47,
   "id": "3ef6d735",
   "metadata": {},
   "outputs": [],
   "source": [
    "import warnings\n",
    "warnings.simplefilter(\"ignore\")"
   ]
  },
  {
   "cell_type": "code",
   "execution_count": 48,
   "id": "135fad11",
   "metadata": {},
   "outputs": [],
   "source": [
    "def train_test_score(model, X_train, X_test, y_train, y_test):\n",
    "    model.fit(X_train, y_train)\n",
    "    y_train_pred = model.predict(X_train)\n",
    "    train_score = accuracy_score(y_train, y_train_pred)\n",
    "    y_test_pred = model.predict(X_test)\n",
    "    test_score = accuracy_score(y_test, y_test_pred)\n",
    "    \n",
    "    return train_score, test_score\n"
   ]
  },
  {
   "cell_type": "code",
   "execution_count": 49,
   "id": "8b152757",
   "metadata": {},
   "outputs": [],
   "source": [
    "models = [MultinomialNB(), LogisticRegression(), DecisionTreeClassifier(), RandomForestClassifier()]"
   ]
  },
  {
   "cell_type": "code",
   "execution_count": 50,
   "id": "a9f4f195",
   "metadata": {},
   "outputs": [
    {
     "name": "stdout",
     "output_type": "stream",
     "text": [
      "Model_name:  MultinomialNB\n",
      "(0.7434724255734505, 0.7457916565015857)\n",
      "Model_name:  LogisticRegression\n",
      "(0.9051976573938506, 0.8589899975603806)\n",
      "Model_name:  DecisionTreeClassifier\n",
      "(1.0, 0.7345694071724811)\n",
      "Model_name:  RandomForestClassifier\n",
      "(1.0, 0.7958038545986826)\n"
     ]
    }
   ],
   "source": [
    "for model in models:\n",
    "    print(\"Model_name: \", str(model).strip(\"()\"))\n",
    "    print(train_test_score(model, X_train_numerical, X_test_num, y_train, y_test))"
   ]
  },
  {
   "cell_type": "code",
   "execution_count": 51,
   "id": "734e870f",
   "metadata": {},
   "outputs": [],
   "source": [
    "#When using MultinomialNB, both the train score and test score are low\n",
    "#LogisticRegression gave 90% train score and 85% test score, which are comparable and quite high, making this a good model\n",
    "#Both DecisionTreeClassifier and RandomForestClassifier are overfitting since the train score is perfect whereas the test score is quite low."
   ]
  },
  {
   "cell_type": "markdown",
   "id": "9a7580d3",
   "metadata": {},
   "source": [
    "###### Hence, LogisticRegression is the best performing model"
   ]
  },
  {
   "cell_type": "markdown",
   "id": "f337fe61",
   "metadata": {},
   "source": [
    "## Saving the trained model"
   ]
  },
  {
   "cell_type": "code",
   "execution_count": 52,
   "id": "e8bcc6a1",
   "metadata": {},
   "outputs": [],
   "source": [
    "log_reg = LogisticRegression()"
   ]
  },
  {
   "cell_type": "code",
   "execution_count": 53,
   "id": "9221c0e8",
   "metadata": {},
   "outputs": [],
   "source": [
    "lr = log_reg.fit(X_train_numerical, y_train)"
   ]
  },
  {
   "cell_type": "code",
   "execution_count": 54,
   "id": "bc82510d",
   "metadata": {},
   "outputs": [
    {
     "data": {
      "text/plain": [
       "'C:\\\\Users\\\\91852\\\\PDIC Hackathon'"
      ]
     },
     "execution_count": 54,
     "metadata": {},
     "output_type": "execute_result"
    }
   ],
   "source": [
    "import os\n",
    "os.getcwd()"
   ]
  },
  {
   "cell_type": "code",
   "execution_count": 55,
   "id": "a1790dbe",
   "metadata": {},
   "outputs": [],
   "source": [
    "os.chdir(r'C:\\Users\\91852\\Desktop\\VS code\\Sentiment_analysis_deployment')"
   ]
  },
  {
   "cell_type": "code",
   "execution_count": 56,
   "id": "fc24e1ea",
   "metadata": {},
   "outputs": [],
   "source": [
    "pickle.dump(lr, open(\"lr_model.pkl\", 'wb'))"
   ]
  },
  {
   "cell_type": "raw",
   "id": "4db31851",
   "metadata": {},
   "source": [
    "In order to vectorize the input text, we need to first fit the X_train_preprocessed again in VScode. Hence, I'm saving X_train_preprocessed"
   ]
  },
  {
   "cell_type": "code",
   "execution_count": 57,
   "id": "e14496f6",
   "metadata": {},
   "outputs": [],
   "source": [
    "pickle.dump(X_train_preprocessed, open(\"X_train_preprocessed.pkl\", \"wb\")) "
   ]
  },
  {
   "cell_type": "code",
   "execution_count": null,
   "id": "d5e0bdf7",
   "metadata": {},
   "outputs": [],
   "source": []
  }
 ],
 "metadata": {
  "kernelspec": {
   "display_name": "Python 3 (ipykernel)",
   "language": "python",
   "name": "python3"
  },
  "language_info": {
   "codemirror_mode": {
    "name": "ipython",
    "version": 3
   },
   "file_extension": ".py",
   "mimetype": "text/x-python",
   "name": "python",
   "nbconvert_exporter": "python",
   "pygments_lexer": "ipython3",
   "version": "3.10.13"
  }
 },
 "nbformat": 4,
 "nbformat_minor": 5
}
